{
 "cells": [
  {
   "cell_type": "code",
   "execution_count": 1,
   "metadata": {},
   "outputs": [],
   "source": [
    "import numpy as np\n",
    "from gpflowopt.domain import ContinuousParameter\n",
    "import matplotlib.pyplot as plt\n",
    "import gpflow\n",
    "from gpflowopt.bo import BayesianOptimizer\n",
    "from gpflowopt.design import LatinHyperCube,FactorialDesign,RandomDesign\n",
    "from gpflowopt.acquisition import ExpectedImprovement\n",
    "from gpflowopt.optim import SciPyOptimizer, StagedOptimizer, MCOptimizer\n",
    "import torch\n",
    "import time "
   ]
  },
  {
   "cell_type": "code",
   "execution_count": 2,
   "metadata": {},
   "outputs": [],
   "source": [
    "domain = ContinuousParameter('x1', -1, 1)"
   ]
  },
  {
   "cell_type": "code",
   "execution_count": 5,
   "metadata": {},
   "outputs": [],
   "source": [
    "def find_nearest(array, value):\n",
    "    array = np.asarray(array)\n",
    "    idx = (np.abs(array- value)).argmin()\n",
    "    return idx"
   ]
  },
  {
   "cell_type": "code",
   "execution_count": 6,
   "metadata": {},
   "outputs": [],
   "source": [
    "xs = np.arange(-1.0, 1.0, 0.01)\n",
    "lhd = RandomDesign(2, domain)"
   ]
  },
  {
   "cell_type": "code",
   "execution_count": 21,
   "metadata": {},
   "outputs": [],
   "source": [
    "func = torch.load('traindata_nor_7000.pt')\n",
    "func=np.array(func)\n",
    "num=2\n",
    "func_test = torch.from_numpy(func[0:num,:])\n",
    "\n",
    "# for specific function\n",
    "#num=1\n",
    "#func_test = torch.from_numpy(func[1111:1111+num,:])\n",
    "step=18"
   ]
  },
  {
   "cell_type": "code",
   "execution_count": 22,
   "metadata": {},
   "outputs": [
    {
     "name": "stdout",
     "output_type": "stream",
     "text": [
      "Iteration: 0\n",
      "iter #  0 - MLL [-4.23] - fmin [0.566]\n",
      "iter #  1 - MLL [-1.29] - fmin [0.566]\n",
      "iter #  2 - MLL [0.223] - fmin [0.539]\n",
      "iter #  3 - MLL [0.196] - fmin [0.369]\n",
      "iter #  4 - MLL [1.1] - fmin [0.0682]\n",
      "iter #  5 - MLL [1.37] - fmin [-0.252]\n",
      "iter #  6 - MLL [3.78] - fmin [-0.583]\n",
      "iter #  7 - MLL [11.1] - fmin [-0.719]\n",
      "iter #  8 - MLL [10.5] - fmin [-1.0]\n",
      "iter #  9 - MLL [9.92] - fmin [-1.0]\n",
      "iter # 10 - MLL [12.3] - fmin [-1.0]\n",
      "iter # 11 - MLL [10.9] - fmin [-1.0]\n",
      "iter # 12 - MLL [10.7] - fmin [-1.0]\n",
      "iter # 13 - MLL [11.3] - fmin [-1.0]\n",
      "iter # 14 - MLL [16.7] - fmin [-1.0]\n",
      "iter # 15 - MLL [16.8] - fmin [-1.0]\n",
      "iter # 16 - MLL [19.6] - fmin [-1.0]\n",
      "iter # 17 - MLL [23.4] - fmin [-1.0]\n",
      " constraints: array([], dtype=float64)\n",
      "         fun: array([-1.])\n",
      "     message: 'OK'\n",
      "        nfev: 18\n",
      "     success: True\n",
      "           x: array([[1.]])\n",
      "time : 2.39e+01 seconds\n",
      "Iteration: 1\n",
      "iter #  0 - MLL [-4.16] - fmin [-0.363]\n",
      "iter #  1 - MLL [1.15] - fmin [-0.363]\n",
      "iter #  2 - MLL [-0.0563] - fmin [-0.363]\n",
      "iter #  3 - MLL [2.42] - fmin [-0.961]\n",
      "iter #  4 - MLL [0.631] - fmin [-0.961]\n",
      "iter #  5 - MLL [-0.445] - fmin [-0.961]\n",
      "iter #  6 - MLL [0.888] - fmin [-1.0]\n",
      "iter #  7 - MLL [-0.465] - fmin [-1.0]\n",
      "iter #  8 - MLL [1.46] - fmin [-1.0]\n",
      "iter #  9 - MLL [0.134] - fmin [-1.0]\n",
      "iter # 10 - MLL [-0.759] - fmin [-1.0]\n",
      "iter # 11 - MLL [4.41] - fmin [-1.0]\n",
      "iter # 12 - MLL [-7.91] - fmin [-1.0]\n",
      "iter # 13 - MLL [6.72] - fmin [-1.0]\n",
      "iter # 14 - MLL [11.3] - fmin [-1.0]\n",
      "iter # 15 - MLL [9.0] - fmin [-1.0]\n",
      "iter # 16 - MLL [14.6] - fmin [-1.0]\n",
      "iter # 17 - MLL [18.2] - fmin [-1.0]\n",
      " constraints: array([], dtype=float64)\n",
      "         fun: array([-1.])\n",
      "     message: 'OK'\n",
      "        nfev: 18\n",
      "     success: True\n",
      "           x: array([[1.]])\n",
      "time : 5.97e+01 seconds\n",
      "time : 5.97e+01 seconds\n"
     ]
    }
   ],
   "source": [
    "min_all=[]\n",
    "t0 = time.time()\n",
    "for n in range(num):\n",
    "    print('Iteration:',n)\n",
    "    \n",
    "    def func_1d(x):\n",
    "        y_out=[]\n",
    "        for i in range(len(x)):\n",
    "            idx=find_nearest(xs,x[i])\n",
    "            y_out.extend([[func_test[n][idx]]])\n",
    "        y_out=np.array(y_out)\n",
    "        return y_out\n",
    "\n",
    "    X = lhd.generate()\n",
    "    Y = func_1d(X)\n",
    "    model = gpflow.gpr.GPR(X, Y, gpflow.kernels.RBF(1, ARD=True,variance=0.1))\n",
    "    model.kern.lengthscales.transform = gpflow.transforms.Log1pe(1e-3)\n",
    "\n",
    "    # Now create the Bayesian Optimizer\n",
    "    alpha = ExpectedImprovement(model)\n",
    "    acquisition_opt = StagedOptimizer([MCOptimizer(domain, 20),SciPyOptimizer(domain)])\n",
    "    optimizer = BayesianOptimizer(domain, alpha, optimizer=acquisition_opt, verbose=True)\n",
    "    \n",
    "    \n",
    "    # Run the Bayesian optimization\n",
    "    r = optimizer.optimize(func_1d, n_iter=step)\n",
    "    print(r)\n",
    "    min_all.append(np.minimum.accumulate(alpha.data[1][:,0]))\n",
    "\n",
    "    \n",
    "    print('time : {:.02e} seconds'.format(time.time() - t0))\n",
    "t1=time.time() - t0\n",
    "print('time : {:.02e} seconds'.format(time.time() - t0))"
   ]
  },
  {
   "cell_type": "code",
   "execution_count": 23,
   "metadata": {},
   "outputs": [],
   "source": [
    "sum_step=0\n",
    "for i in range(len(min_all)):\n",
    "    sum_step=sum_step+ np.minimum.accumulate(min_all[i])"
   ]
  },
  {
   "cell_type": "code",
   "execution_count": 24,
   "metadata": {},
   "outputs": [],
   "source": [
    "min_step =sum_step/len(min_all)\n",
    "sum2=0\n",
    "for i in range(len(min_all)):\n",
    "    sum2=sum2+np.minimum.accumulate(min_all[i])**2\n",
    "\n",
    "var=sum2/len(min_all)-min_step**2\n",
    "\n",
    "std=(var/len(min_all))**0.5"
   ]
  },
  {
   "cell_type": "code",
   "execution_count": 25,
   "metadata": {},
   "outputs": [
    {
     "data": {
      "image/png": "[encoded data removed]",
      "text/plain": [
       "<Figure size 432x288 with 1 Axes>"
      ]
     },
     "metadata": {},
     "output_type": "display_data"
    }
   ],
   "source": [
    "plt.plot(min_step,'b--',label='GP')\n",
    "plt.xticks(np.arange(0, steps, 5))\n",
    "plt.fill_between(np.arange(0, steps, 1), min_step - 2*std, min_step +2*std,color=\"C0\", alpha=0.3) \n",
    "\n",
    "plt.legend(loc='upper right')\n",
    "plt.ylabel('Min function value') \n",
    "plt.xlabel('Steps') \n",
    "#plt.ylim(-1.5,1)\n",
    "plt.show()"
   ]
  },
  {
   "cell_type": "code",
   "execution_count": 19,
   "metadata": {},
   "outputs": [
    {
     "data": {
      "image/png": "[encoded data removed]",
      "text/plain": [
       "<Figure size 432x288 with 2 Axes>"
      ]
     },
     "metadata": {},
     "output_type": "display_data"
    }
   ],
   "source": [
    "#plot specific function\n",
    "\n",
    "steps=step+2\n",
    "color = 'tab:blue'\n",
    "fig,ax1= plt.subplots()\n",
    "ax1.set_xlabel('x',size=13)\n",
    "ax1.set_ylabel('y',size=13)\n",
    "\n",
    "#GP\n",
    "ax1.plot(xs,func[1111])\n",
    "\n",
    "ax1.tick_params(axis='y', labelcolor=color)\n",
    "for i in range(steps):\n",
    "    ax1.scatter(alpha.data[0][i,0],alpha.data[1][i,0],marker='x',s=100)\n",
    "\n",
    "ax2 = ax1.twinx()\n",
    "\n",
    "stepss = np.arange(0, steps, 1)\n",
    "color = 'tab:red'\n",
    "ax2.set_ylabel('Step(s)',size=13)  \n",
    "\n",
    "ax2.plot(alpha.data[0][:,0],stepss, color='tab:grey')\n",
    "ax2.tick_params(axis='y', labelcolor=color)\n",
    "ax2.set_yticks(np.arange(0, steps+1, 5))\n",
    "for i in range(steps):\n",
    "    ax2.scatter(alpha.data[0][i,0],i)\n",
    "\n",
    "plt.title('GP',size=13)\n",
    "#plt.savefig(\"query_1.pdf\",bbox_inches=\"tight\")\n",
    "fig.tight_layout() "
   ]
  },
  {
   "cell_type": "code",
   "execution_count": null,
   "metadata": {},
   "outputs": [],
   "source": [
    "#torch.save(min_step, open('min_step_gp', 'wb'))\n",
    "#torch.save(std, open('std_gp', 'wb'))"
   ]
  }
 ],
 "metadata": {
  "kernelspec": {
   "display_name": "weixiang",
   "language": "python",
   "name": "weixiang"
  },
  "language_info": {
   "codemirror_mode": {
    "name": "ipython",
    "version": 3
   },
   "file_extension": ".py",
   "mimetype": "text/x-python",
   "name": "python",
   "nbconvert_exporter": "python",
   "pygments_lexer": "ipython3",
   "version": "3.5.2"
  }
 },
 "nbformat": 4,
 "nbformat_minor": 2
}
