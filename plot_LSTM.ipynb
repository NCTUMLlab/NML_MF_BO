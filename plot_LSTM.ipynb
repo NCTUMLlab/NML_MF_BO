{
 "cells": [
  {
   "cell_type": "code",
   "execution_count": 1,
   "metadata": {},
   "outputs": [],
   "source": [
    "from __future__ import print_function\n",
    "import torch\n",
    "import torch.nn as nn\n",
    "import torch.optim as optim\n",
    "import torch.distributions as dist\n",
    "import numpy as np\n",
    "import torch.nn.functional as F\n",
    "from math import exp\n",
    "import numpy as np\n",
    "import matplotlib.pyplot as plt\n",
    "from torch.autograd import Variable\n",
    "import math\n",
    "import time\n",
    "import torch.nn.utils as utils"
   ]
  },
  {
   "cell_type": "code",
   "execution_count": 2,
   "metadata": {},
   "outputs": [],
   "source": [
    "############################################\n",
    "n=50000\n",
    "xs = np.arange(-1.0, 1.0, 0.01)\n",
    "xs_mf = np.arange(-1.0, 1.0, 0.02)\n",
    "############################################\n",
    "func = torch.load('testdata_7000.pt')\n",
    "func_mf = torch.load('testdata_7000_fidelity2.pt')\n",
    "func=np.array(func)\n",
    "func_mf=np.array(func_mf)"
   ]
  },
  {
   "cell_type": "code",
   "execution_count": 3,
   "metadata": {},
   "outputs": [],
   "source": [
    "def find_nearest(array, value):\n",
    "    array = np.asarray(array)\n",
    "    idx = (np.abs(array- value.data.numpy())).argmin()\n",
    "    return idx"
   ]
  },
  {
   "cell_type": "code",
   "execution_count": 4,
   "metadata": {},
   "outputs": [],
   "source": [
    "def query(action,func):\n",
    "    y_out=[]\n",
    "    x_out=[]\n",
    "    for i in range(action.size(0)):\n",
    "        idx=find_nearest(xs,action[i])\n",
    "        y=func[i][idx]\n",
    "        x_out.extend([xs[idx]])\n",
    "        y_out.extend([y])\n",
    "    x_out=np.array(x_out).reshape(action.size(0),1)\n",
    "    x_out=torch.from_numpy(x_out[:])\n",
    "    y_out=np.array(y_out).reshape(action.size(0),1)\n",
    "    y_out=torch.from_numpy(y_out[:,:])\n",
    "    input=torch.cat((x_out,y_out),1)\n",
    "    return input,x_out,y_out"
   ]
  },
  {
   "cell_type": "code",
   "execution_count": 5,
   "metadata": {},
   "outputs": [],
   "source": [
    "def query_mf(action,func,func_mf,fidelity):\n",
    "    y_out=[]\n",
    "    x_out=[] \n",
    "    for i in range(action.size(0)):\n",
    "        if fidelity[i] ==0.:\n",
    "            idx=find_nearest(xs_mf,action[i])\n",
    "            y=func_mf[i][idx]\n",
    "            x_out.extend([xs_mf[idx]])\n",
    "        else :\n",
    "            idx=find_nearest(xs,action[i])\n",
    "            y=func[i][idx]\n",
    "            x_out.extend([xs[idx]])\n",
    "        y_out.extend([y])\n",
    "    x_out=np.array(x_out).reshape(action.size(0),1)\n",
    "    x_out=torch.from_numpy(x_out[:]).double()\n",
    "    y_out=np.array(y_out).reshape(action.size(0),1)\n",
    "    y_out=torch.from_numpy(y_out[:,:]).double()\n",
    "    input=torch.cat((x_out,y_out),1)\n",
    "    return input,x_out,y_out"
   ]
  },
  {
   "cell_type": "code",
   "execution_count": 6,
   "metadata": {},
   "outputs": [],
   "source": [
    "def process(x0,func):\n",
    "    inputs=[]\n",
    "    x_out=[]\n",
    "    y_out=[]\n",
    "    idx=find_nearest(xs,x0)\n",
    "    for i in range(func.size(0)):\n",
    "        y=func[i][idx]\n",
    "        x_out.extend([xs[idx]])\n",
    "        y_out.extend([y])\n",
    "    x_out=np.array(x_out).reshape(func.size(0),1)\n",
    "    x_out=torch.from_numpy(x_out[:])\n",
    "    y_out=np.array(y_out).reshape(func.size(0),1)\n",
    "    y_out=torch.from_numpy(y_out[:,:])\n",
    "    input=torch.cat((x_out,y_out),1)\n",
    "    return input"
   ]
  },
  {
   "cell_type": "code",
   "execution_count": 7,
   "metadata": {},
   "outputs": [],
   "source": [
    "np.random.seed(77)\n",
    "torch.manual_seed(77)\n",
    "    \n",
    "#starting point\n",
    "x0=torch.tensor([0.0])\n",
    "step=20\n",
    "future=0\n",
    "\n",
    "hidden_size=64\n",
    "sigma=0.1\n",
    "n=2000"
   ]
  },
  {
   "cell_type": "code",
   "execution_count": 8,
   "metadata": {},
   "outputs": [],
   "source": [
    "class Sequence_mf(nn.Module):\n",
    "    def __init__(self):\n",
    "        super(Sequence_mf, self).__init__()\n",
    "        self.lstm1 = nn.LSTMCell(2,64)\n",
    "        self.lstm2 = nn.LSTMCell(1,64)\n",
    "        self.linear1= nn.Linear(64,1)\n",
    "        self.linear2= nn.Linear(64,1)\n",
    "        self.tanh=nn.Tanh()\n",
    "        self.sigmoid=nn.Sigmoid()\n",
    "        \n",
    "    def forward(self,input,func,func_mf,sigma,future=0):\n",
    "        outputs = []\n",
    "        log_probs = []\n",
    "        rewards = []\n",
    "        entropies = []\n",
    "        actions = []\n",
    "        fidelity_all=[]\n",
    "        time_step=[]\n",
    "        \n",
    "        h_t = torch.zeros(input.size(0), 64, requires_grad=False, dtype=torch.double).cuda()\n",
    "        c_t = torch.zeros(input.size(0), 64, requires_grad=False, dtype=torch.double).cuda()\n",
    "        \n",
    "        h2_t = torch.zeros(input.size(0), 64, requires_grad=False, dtype=torch.double).cuda()\n",
    "        c2_t = torch.zeros(input.size(0), 64, requires_grad=False, dtype=torch.double).cuda()\n",
    "        \n",
    "        outputs += [input]\n",
    "        t0 = time.time()\n",
    "        for i in range(step+future):\n",
    "            h_t, c_t = self.lstm1(input, (h_t, c_t))\n",
    "            h_t=h_t.detach()\n",
    "            c_t=c_t.detach()\n",
    "            mean=self.linear1(h_t)\n",
    "            mean=self.tanh(mean)\n",
    "            m = torch.distributions.normal.Normal(mean,sigma)\n",
    "            action=m.sample()\n",
    "            entropy=m.entropy()\n",
    "            \n",
    "            h2_t, c2_t = self.lstm2(action, (h2_t, c2_t))\n",
    "            h2_t=h2_t.detach()\n",
    "            c2_t=c2_t.detach()\n",
    "            prob=self.linear2(h2_t)\n",
    "            prob=self.sigmoid(prob)\n",
    "            w = torch.distributions.bernoulli.Bernoulli(prob)\n",
    "            \n",
    "            fidelity=w.sample()\n",
    "            \n",
    "            ############################################\n",
    "            #sigma-=0.0015\n",
    "            \n",
    "            #next input\n",
    "            \n",
    "            input,action_new,reward=query_mf(action.cpu(),func,func_mf,fidelity.cpu())\n",
    "            log_prob=m.log_prob(action_new.cuda())\n",
    "           \n",
    "            input=input.cuda()\n",
    "            outputs += [input]\n",
    "            \n",
    "            log_probs.append(log_prob)\n",
    "            rewards.append(reward)\n",
    "            entropies.append(entropy)\n",
    "            actions.append(action_new)\n",
    "            fidelity_all.append(fidelity.double())\n",
    "            t1=time.time() - t0\n",
    "            time_step.append(t1)\n",
    "            \n",
    "        outputs = torch.stack(outputs, 1).squeeze(2)\n",
    "        return outputs,log_probs,rewards,entropies,actions,fidelity_all,time_step"
   ]
  },
  {
   "cell_type": "code",
   "execution_count": 9,
   "metadata": {},
   "outputs": [],
   "source": [
    "class Sequence(nn.Module):\n",
    "    def __init__(self):\n",
    "        super(Sequence, self).__init__()\n",
    "        self.lstm1 = nn.LSTMCell(2,hidden_size)\n",
    "        self.linear1= nn.Linear(hidden_size,1)\n",
    "        self.linear2= nn.Linear(hidden_size,1)\n",
    "        self.tanh=nn.Tanh()\n",
    "        \n",
    "    def forward(self,input,func,sigma,future=0):\n",
    "        outputs = []\n",
    "        log_probs = []\n",
    "        rewards = []\n",
    "        entropies = []\n",
    "        actions = []\n",
    "        time_step=[]\n",
    "        \n",
    "        h_t = torch.zeros(input.size(0), hidden_size, requires_grad=False, dtype=torch.double).cuda()\n",
    "        c_t = torch.zeros(input.size(0), hidden_size, requires_grad=False, dtype=torch.double).cuda()\n",
    "        outputs += [input]\n",
    "        t0 = time.time()\n",
    "        for i in range(step+future):\n",
    "            \n",
    "            h_t, c_t = self.lstm1(input, (h_t, c_t))\n",
    "            h_t=h_t.detach()\n",
    "            c_t=c_t.detach()\n",
    "            mean=self.linear1(h_t)\n",
    "            mean=self.tanh(mean)\n",
    "            #print('mean:',mean.detach().cpu().numpy())\n",
    "            m = torch.distributions.normal.Normal(mean,sigma)\n",
    "            action=m.sample()\n",
    "            entropy=m.entropy()\n",
    "            \n",
    "            #sigma-=0.0015\n",
    "            \n",
    "            input,action_new,reward=query(action.cpu(),func)\n",
    "            #print('action:',action_new)\n",
    "            log_prob=m.log_prob(action_new.cuda())\n",
    "            input=input.cuda()\n",
    "            outputs += [input]\n",
    "            \n",
    "            log_probs.append(log_prob)\n",
    "            rewards.append(reward)\n",
    "            entropies.append(entropy)\n",
    "            actions.append(action_new)\n",
    "            t1=time.time() - t0\n",
    "            time_step.append(t1)\n",
    "            \n",
    "            \n",
    "        outputs = torch.stack(outputs, 1).squeeze(2)\n",
    "        return outputs,log_probs,rewards,entropies,actions,time_step"
   ]
  },
  {
   "cell_type": "code",
   "execution_count": 10,
   "metadata": {},
   "outputs": [],
   "source": [
    "def mins_found(rewards):\n",
    "        min_step=[]    \n",
    "        min_h=rewards[0].clone()\n",
    "        for i in range(len(rewards)):\n",
    "            for j in range(rewards[i].size(0)):\n",
    "                if rewards[i][j]<min_h[j]:\n",
    "                    min_h[j]=rewards[i][j]\n",
    "            min_step.append(min_h.mean())\n",
    "        return min_step"
   ]
  },
  {
   "cell_type": "code",
   "execution_count": 11,
   "metadata": {},
   "outputs": [],
   "source": [
    "def min_loss(rewards):\n",
    "        min_step=[]    \n",
    "        min_h=rewards[0].clone()\n",
    "        for i in range(len(rewards)):\n",
    "            for j in range(rewards[i].size(0)):\n",
    "                if rewards[i][j]<min_h[j]:\n",
    "                    min_h[j]=rewards[i][j]\n",
    "            min_step.append(min_h.clone())            \n",
    "        return min_step"
   ]
  },
  {
   "cell_type": "code",
   "execution_count": 12,
   "metadata": {},
   "outputs": [
    {
     "data": {
      "image/png": "[encoded data removed]",
      "text/plain": [
       "<Figure size 432x288 with 1 Axes>"
      ]
     },
     "metadata": {},
     "output_type": "display_data"
    }
   ],
   "source": [
    "f=1111\n",
    "plt.plot(xs,func[f])\n",
    "plt.plot(xs_mf,func_mf[f])\n",
    "plt.show()"
   ]
  },
  {
   "cell_type": "code",
   "execution_count": 13,
   "metadata": {},
   "outputs": [],
   "source": [
    "future=0\n",
    "sigma=0.1\n",
    "func_test = torch.from_numpy(func[f:f+1,:])\n",
    "func_test_mf = torch.from_numpy(func_mf[f:f+1 :])\n",
    "input_test=process(x0,func_test)\n",
    "input_test=input_test.cuda()"
   ]
  },
  {
   "cell_type": "code",
   "execution_count": 14,
   "metadata": {},
   "outputs": [],
   "source": [
    "seq1 = Sequence().cuda()\n",
    "seq1.double()\n",
    "seq1.load_state_dict(torch.load('seq37_100.pkl')) #oi37 #min 40 #sum31"
   ]
  },
  {
   "cell_type": "code",
   "execution_count": 15,
   "metadata": {},
   "outputs": [
    {
     "name": "stdout",
     "output_type": "stream",
     "text": [
      "time : 2.11e-02 seconds\n"
     ]
    }
   ],
   "source": [
    "t0 = time.time()\n",
    "with torch.no_grad():\n",
    "        out_test,log_probs,test_rewards,entropies,test_actions,time_step = seq1(input_test,func_test,sigma,future)\n",
    "        t1=time.time() - t0\n",
    "        min_step=mins_found(test_rewards)\n",
    "        min_result=min_loss(test_rewards)\n",
    "        std=[]\n",
    "        for i in range(len(test_rewards)):\n",
    "            std.append((((min_result[i]**2).sum() /len(test_rewards[0])-(min_result[i].mean())**2 )/len(test_rewards[0]))**0.5)\n",
    "        y = out_test.cpu().detach().numpy()\n",
    "print('time : {:.02e} seconds'.format(t1))"
   ]
  },
  {
   "cell_type": "code",
   "execution_count": 16,
   "metadata": {},
   "outputs": [
    {
     "data": {
      "image/png": "[encoded data removed]",
      "text/plain": [
       "<Figure size 432x288 with 2 Axes>"
      ]
     },
     "metadata": {},
     "output_type": "display_data"
    }
   ],
   "source": [
    "k =0\n",
    "x = torch.linspace(0, 1)\n",
    "\n",
    "color = 'tab:blue'\n",
    "fig,ax1= plt.subplots()\n",
    "ax1.set_title('LSTM_OI',size=13)\n",
    "ax1.set_xlabel('x',size=13)\n",
    "ax1.set_ylabel('y',size=13)\n",
    "\n",
    "ax1.plot(xs,func[f])\n",
    "\n",
    "\n",
    "ax1.tick_params(axis='y', labelcolor=color)\n",
    "for i in range(step+future):\n",
    "    ax1.scatter(y[k][i+1][0],y[k][i+1][1],marker='x',s=100)\n",
    "#ax1.plot([1.0,1.0],[-2,2],'g--')\n",
    "\n",
    "ax2 = ax1.twinx()\n",
    "\n",
    "steps = np.arange(0, step+future, 1)\n",
    "color = 'tab:red'\n",
    "ax2.set_ylabel('Step(s)',size=13)  \n",
    "\n",
    "ax2.plot(test_actions,steps, color='tab:grey')\n",
    "ax2.tick_params(axis='y', labelcolor=color)\n",
    "ax2.set_yticks(np.arange(0, step+future+1, 5))\n",
    "for i in range(step+future):\n",
    "    ax2.scatter(test_actions[i],i)\n",
    "\n",
    "fig.tight_layout() \n",
    "#plt.savefig(\"plot_oi.pdf\",bbox_inches=\"tight\")"
   ]
  },
  {
   "cell_type": "code",
   "execution_count": 17,
   "metadata": {},
   "outputs": [],
   "source": [
    "#mf\n",
    "seq4 = Sequence_mf().cuda()\n",
    "seq4.double()\n",
    "seq4.load_state_dict(torch.load('seq73_100.pkl')) #sum 78 #min 62 #oi 73"
   ]
  },
  {
   "cell_type": "code",
   "execution_count": 18,
   "metadata": {},
   "outputs": [
    {
     "name": "stdout",
     "output_type": "stream",
     "text": [
      "time : 2.88e-02 seconds\n"
     ]
    }
   ],
   "source": [
    "sigma=0.1\n",
    "t0 = time.time()\n",
    "with torch.no_grad():\n",
    "            out_test,log_probs,test_rewards,entropies,test_actions,fidelity,time_step4 = seq4(input_test,func_test,func_test_mf,sigma,future)\n",
    "            t4=time.time() - t0\n",
    "            min_step6=mins_found(test_rewards)\n",
    "            min_result=min_loss(test_rewards)\n",
    "            std6=[]\n",
    "            for i in range(len(test_rewards)):\n",
    "                std6.append((((min_result[i]**2).sum() /len(test_rewards[0])-(min_result[i].mean())**2 )/len(test_rewards[0]))**0.5)\n",
    "            y = out_test.cpu().detach().numpy()\n",
    "print('time : {:.02e} seconds'.format(t4))"
   ]
  },
  {
   "cell_type": "code",
   "execution_count": 19,
   "metadata": {},
   "outputs": [
    {
     "data": {
      "image/png": "[encoded data removed]",
      "text/plain": [
       "<Figure size 432x288 with 2 Axes>"
      ]
     },
     "metadata": {},
     "output_type": "display_data"
    }
   ],
   "source": [
    "#multifidelity\n",
    "k = 0\n",
    "#plt.plot(xs,func_test[k].detach().numpy())\n",
    "x = torch.linspace(0, 1)\n",
    "\n",
    "color = 'tab:blue'\n",
    "fig,ax1= plt.subplots()\n",
    "ax1.set_title('LSTM_OI_MF',size=13)\n",
    "ax1.set_xlabel('x',size=13)\n",
    "ax1.set_ylabel('y',size=13)\n",
    "#GP\n",
    "ax1.plot(xs,func[f],label='High Fidelity')\n",
    "ax1.plot(xs_mf,func_mf[f],color='red',label='Low Fidelity')\n",
    "\n",
    "ax1.tick_params(axis='y', labelcolor=color)\n",
    "\n",
    "count=0\n",
    "for i in range(step+future):\n",
    "    if fidelity[i] == 0:\n",
    "        if count==1:\n",
    "            ax1.scatter(y[k][i+1][0],y[k][i+1][1],marker='x',s=100,label='Low Fidelity')\n",
    "            count+=1\n",
    "        else:\n",
    "            ax1.scatter(y[k][i+1][0],y[k][i+1][1],marker='x',s=100)\n",
    "    else: \n",
    "        if count==0:\n",
    "            ax1.scatter(y[k][i+1][0],y[k][i+1][1],marker='+',s=100,label='High Fidelity')\n",
    "            count+=1\n",
    "        else:\n",
    "            ax1.scatter(y[k][i+1][0],y[k][i+1][1],marker='+',s=100)\n",
    "\n",
    "cost=0\n",
    "cost_all=[]\n",
    "\n",
    "ax2 = ax1.twinx()\n",
    "\n",
    "steps = np.arange(0, step+future, 1)\n",
    "color = 'tab:red'\n",
    "\n",
    "ax2.plot(test_actions,steps, color='tab:grey')\n",
    "ax2.tick_params(axis='y', labelcolor=color)\n",
    "ax2.set_yticks(np.arange(0, step+future+1, 20))\n",
    "count=0\n",
    "for i in range(step+future):\n",
    "    if fidelity[i] == 0:\n",
    "        if count==1:\n",
    "            count+=1\n",
    "            ax2.scatter(test_actions[i],i,marker='s',label='Low Fidelity')\n",
    "        else:\n",
    "            ax2.scatter(test_actions[i],i,marker='s')\n",
    "            #cost+=1.\n",
    "    else:\n",
    "        if count==0:\n",
    "            count+=1\n",
    "            ax2.scatter(test_actions[i],i,marker='o',label='High Fidelity')\n",
    "        else:\n",
    "            ax2.scatter(test_actions[i],i,marker='o')\n",
    "        #cost+=10.\n",
    "    #cost_all.append(cost)\n",
    "ax2.set_ylim(-1,20)\n",
    "\n",
    "lines, labels = ax1.get_legend_handles_labels()\n",
    "lines2, labels2 = ax2.get_legend_handles_labels()\n",
    "ax2.legend(lines + lines2, labels + labels2, loc='center left', bbox_to_anchor=(1, 0.5))\n",
    "#ax.legend(lns, labs,bbox_to_anchor=(1.05, 1), loc=2, borderaxespad=0.8)\n",
    "\n",
    "#remove errorbar in legend\n",
    "#ax = plt.gca()\n",
    "#handles, labels = ax.get_legend_handles_labels()\n",
    "#handles = [h[0] if isinstance(h,container.ErrorbarContainer) else h for h in handles]\n",
    "\n",
    "#ax.legend(handles, labels,bbox_to_anchor=(1.05, 1), loc=2, borderaxespad=0.)\n",
    "\n",
    "\n",
    "fig.tight_layout() \n",
    "#plt.savefig(\"plot_oimf.pdf\",bbox_inches=\"tight\")\n",
    "#plt.show()"
   ]
  },
  {
   "cell_type": "code",
   "execution_count": null,
   "metadata": {},
   "outputs": [],
   "source": []
  }
 ],
 "metadata": {
  "kernelspec": {
   "display_name": "weixiang",
   "language": "python",
   "name": "weixiang"
  },
  "language_info": {
   "codemirror_mode": {
    "name": "ipython",
    "version": 3
   },
   "file_extension": ".py",
   "mimetype": "text/x-python",
   "name": "python",
   "nbconvert_exporter": "python",
   "pygments_lexer": "ipython3",
   "version": "3.5.2"
  }
 },
 "nbformat": 4,
 "nbformat_minor": 2
}
