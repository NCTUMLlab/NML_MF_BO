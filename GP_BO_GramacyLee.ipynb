{
 "cells": [
  {
   "cell_type": "code",
   "execution_count": 1,
   "metadata": {},
   "outputs": [],
   "source": [
    "import numpy as np\n",
    "from gpflowopt.domain import ContinuousParameter\n",
    "import matplotlib.pyplot as plt\n",
    "import gpflow\n",
    "from gpflowopt.bo import BayesianOptimizer\n",
    "from gpflowopt.design import LatinHyperCube,FactorialDesign,RandomDesign\n",
    "from gpflowopt.acquisition import ExpectedImprovement\n",
    "from gpflowopt.optim import SciPyOptimizer, StagedOptimizer, MCOptimizer\n",
    "import torch\n",
    "import time \n"
   ]
  },
  {
   "cell_type": "code",
   "execution_count": 2,
   "metadata": {},
   "outputs": [],
   "source": [
    "def gramacy(x):\n",
    "    a = np.sin(10.*np.pi*x)/(2.*x)\n",
    "    b = (x-1.)**4.\n",
    "    ret= a+b\n",
    "    return ret"
   ]
  },
  {
   "cell_type": "code",
   "execution_count": 3,
   "metadata": {},
   "outputs": [
    {
     "data": {
      "image/png": "[encoded data removed]",
      "text/plain": [
       "<Figure size 432x288 with 1 Axes>"
      ]
     },
     "metadata": {},
     "output_type": "display_data"
    }
   ],
   "source": [
    "xxx = np.arange(0.5,2.5,0.01)\n",
    "plt.plot(xxx,gramacy(xxx))\n",
    "plt.ylabel('f(x)',size=13) \n",
    "plt.xlabel('x',size=13) \n",
    "#plt.title('Gramacy & Lee function')\n",
    "plt.xticks(np.arange(0.5,2.6, 0.5))\n",
    "x=0.5485\n",
    "y=gramacy(x)\n",
    "plt.scatter(x,y)\n",
    "plt.savefig(\"gramacy.pdf\",bbox_inches=\"tight\")\n",
    "plt.show()"
   ]
  },
  {
   "cell_type": "code",
   "execution_count": 4,
   "metadata": {},
   "outputs": [
    {
     "data": {
      "text/plain": [
       "-0.8690093239456621"
      ]
     },
     "execution_count": 4,
     "metadata": {},
     "output_type": "execute_result"
    }
   ],
   "source": [
    "gramacy(0.5485)"
   ]
  },
  {
   "cell_type": "code",
   "execution_count": 5,
   "metadata": {},
   "outputs": [],
   "source": [
    "domain = ContinuousParameter('x1', 0.5, 2.5)\n",
    "\n",
    "lhd = RandomDesign(2, domain)\n",
    "step=18"
   ]
  },
  {
   "cell_type": "code",
   "execution_count": 6,
   "metadata": {},
   "outputs": [],
   "source": [
    "#min_all = torch.load('min_all_gramacy.pt')\n",
    "#len(min_all)"
   ]
  },
  {
   "cell_type": "code",
   "execution_count": 7,
   "metadata": {},
   "outputs": [
    {
     "name": "stdout",
     "output_type": "stream",
     "text": [
      "Iteration: 0\n",
      "iter #  0 - MLL [-3.84] - fmin [0.152]\n",
      "iter #  1 - MLL [-4.78] - fmin [0.152]\n",
      "iter #  2 - MLL [-6.32] - fmin [0.0609]\n",
      "iter #  3 - MLL [-8.05] - fmin [0.0609]\n",
      "iter #  4 - MLL [-8.61] - fmin [0.0609]\n",
      "iter #  5 - MLL [-9.87] - fmin [-0.434]\n",
      "iter #  6 - MLL [-12.2] - fmin [-0.434]\n",
      "iter #  7 - MLL [-13.1] - fmin [-0.434]\n",
      "iter #  8 - MLL [-11.9] - fmin [-0.434]\n",
      "iter #  9 - MLL [-12.2] - fmin [-0.434]\n",
      "iter # 10 - MLL [-10.8] - fmin [-0.434]\n",
      "iter # 11 - MLL [-11.9] - fmin [-0.434]\n",
      "iter # 12 - MLL [-11.7] - fmin [-0.434]\n",
      "iter # 13 - MLL [-11.6] - fmin [-0.434]\n",
      "iter # 14 - MLL [-11.7] - fmin [-0.434]\n",
      "iter # 15 - MLL [-11.2] - fmin [-0.434]\n",
      "iter # 16 - MLL [-11.2] - fmin [-0.434]\n",
      "iter # 17 - MLL [-7.49] - fmin [-0.434]\n",
      " constraints: array([], dtype=float64)\n",
      "         fun: array([-0.43444636])\n",
      "     message: 'OK'\n",
      "        nfev: 18\n",
      "     success: True\n",
      "           x: array([[1.14928874]])\n",
      "time : 1.25e+01 seconds\n",
      "time : 1.29e+01 seconds\n"
     ]
    }
   ],
   "source": [
    "min_all=[]\n",
    "t0 = time.time()\n",
    "for n in range(1):\n",
    "    print('Iteration:',n)\n",
    "    X = lhd.generate()\n",
    "    Y = gramacy(X)\n",
    "    model = gpflow.gpr.GPR(X, Y, gpflow.kernels.RBF(1, ARD=True,variance=0.1))\n",
    "    model.kern.lengthscales.transform = gpflow.transforms.Log1pe(1e-3)\n",
    "\n",
    "    # Now create the Bayesian Optimizer\n",
    "    alpha = ExpectedImprovement(model)\n",
    "    #MCOptimizer(domain, 200)\n",
    "    acquisition_opt = StagedOptimizer([MCOptimizer(domain, 200),SciPyOptimizer(domain)])\n",
    "    optimizer = BayesianOptimizer(domain, alpha, optimizer=acquisition_opt, verbose=True)\n",
    "    \n",
    "    t1 = time.time()\n",
    "    # Run the Bayesian optimization\n",
    "    r = optimizer.optimize(gramacy, n_iter=step)\n",
    "    print(r)\n",
    "    print('time : {:.02e} seconds'.format(time.time() - t1))\n",
    "    min_all.append(np.minimum.accumulate(alpha.data[1][:,0]))\n",
    "    \n",
    "    \n",
    "t2=time.time() - t0\n",
    "print('time : {:.02e} seconds'.format(time.time() - t0))"
   ]
  },
  {
   "cell_type": "code",
   "execution_count": 8,
   "metadata": {},
   "outputs": [],
   "source": [
    "sum_step=0\n",
    "for i in range(len(min_all)):\n",
    "    sum_step=sum_step+ np.minimum.accumulate(min_all[i])"
   ]
  },
  {
   "cell_type": "code",
   "execution_count": 9,
   "metadata": {},
   "outputs": [],
   "source": [
    "min_step =sum_step/len(min_all)\n",
    "sum2=0\n",
    "for i in range(len(min_all)):\n",
    "    sum2=sum2+np.minimum.accumulate(min_all[i])**2\n",
    "\n",
    "var=sum2/len(min_all)-min_step**2"
   ]
  },
  {
   "cell_type": "code",
   "execution_count": 10,
   "metadata": {},
   "outputs": [],
   "source": [
    "std=(var/len(min_all))**0.5"
   ]
  },
  {
   "cell_type": "code",
   "execution_count": 11,
   "metadata": {},
   "outputs": [],
   "source": [
    "#min_step = np.load('min_step_gramacy.npy')\n",
    "#std = np.load('std_gramacy.npy')"
   ]
  },
  {
   "cell_type": "code",
   "execution_count": 12,
   "metadata": {},
   "outputs": [
    {
     "data": {
      "image/png": "[encoded data removed]",
      "text/plain": [
       "<Figure size 432x288 with 1 Axes>"
      ]
     },
     "metadata": {},
     "output_type": "display_data"
    }
   ],
   "source": [
    "steps=20\n",
    "plt.plot(min_step,'b--',label='GP')\n",
    "plt.xticks(np.arange(0, steps, 5))\n",
    "plt.fill_between(np.arange(0, steps, 1), min_step - 2*std, min_step +2*std,color=\"C0\", alpha=0.3) \n",
    "\n",
    "plt.legend(loc='upper right')\n",
    "plt.ylabel('Min function value') \n",
    "plt.xlabel('Steps') \n",
    "#plt.ylim(-1.5,1)\n",
    "plt.show()"
   ]
  },
  {
   "cell_type": "code",
   "execution_count": 13,
   "metadata": {},
   "outputs": [
    {
     "data": {
      "text/plain": [
       "-0.43444636169040024"
      ]
     },
     "execution_count": 13,
     "metadata": {},
     "output_type": "execute_result"
    }
   ],
   "source": [
    "min_step[-1]"
   ]
  },
  {
   "cell_type": "code",
   "execution_count": 14,
   "metadata": {},
   "outputs": [],
   "source": [
    "#np.save('min_step_gramacy.npy',min_step)\n",
    "#np.save('std_gramacy.npy',std)"
   ]
  },
  {
   "cell_type": "code",
   "execution_count": 15,
   "metadata": {},
   "outputs": [],
   "source": [
    "#torch.save(min_all, open('min_all_gramacy.pt', 'wb'))\n",
    "#min_all = torch.load('min_all_gramacy.pt')"
   ]
  },
  {
   "cell_type": "code",
   "execution_count": null,
   "metadata": {},
   "outputs": [],
   "source": []
  }
 ],
 "metadata": {
  "kernelspec": {
   "display_name": "weixiang",
   "language": "python",
   "name": "weixiang"
  },
  "language_info": {
   "codemirror_mode": {
    "name": "ipython",
    "version": 3
   },
   "file_extension": ".py",
   "mimetype": "text/x-python",
   "name": "python",
   "nbconvert_exporter": "python",
   "pygments_lexer": "ipython3",
   "version": "3.5.2"
  }
 },
 "nbformat": 4,
 "nbformat_minor": 2
}
